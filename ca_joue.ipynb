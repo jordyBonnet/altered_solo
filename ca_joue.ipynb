{
 "cells": [
  {
   "cell_type": "code",
   "execution_count": 1,
   "metadata": {},
   "outputs": [],
   "source": [
    "from player import Player\n",
    "import os, glob\n",
    "import random"
   ]
  },
  {
   "cell_type": "code",
   "execution_count": 2,
   "metadata": {},
   "outputs": [],
   "source": [
    "n_cards = 10\n",
    "\n",
    "# remove all json files in the folder games\n",
    "files = glob.glob('games/*.json')\n",
    "for f in files:\n",
    "    os.remove(f)"
   ]
  },
  {
   "cell_type": "code",
   "execution_count": 3,
   "metadata": {},
   "outputs": [
    {
     "data": {
      "text/plain": [
       "Player(name='p1', deck=['c19', 'c25', 'c26', 'c28', 'c29', 'c58', 'c62', 'c88', 'c95', 'c97'], game_id='VQiCYoVsw4iqYZ56rc6Y5b_20241018T101353', id=1, hand=[], reserve=[], landmarks=[], exp_hero=[], exp_companion=[], mana_pile=[], discard_pile=[], has_passed_afternoon=False, turn_not_ended=False, pending_effects=None, actions=None, message=None, available_actions=None, server='http://127.0.0.1:8000', is_AI=True, AI_level='random')"
      ]
     },
     "execution_count": 3,
     "metadata": {},
     "output_type": "execute_result"
    }
   ],
   "source": [
    "p1 = Player(name=\"p1\", deck=sorted([f'c{str(i).zfill(2)}' for i in random.sample(range(1, 100), n_cards)]), is_AI=True)\n",
    "p1 = p1.create_new_game()\n",
    "GAME_ID = p1.game_id\n",
    "p1"
   ]
  },
  {
   "cell_type": "code",
   "execution_count": 4,
   "metadata": {},
   "outputs": [
    {
     "data": {
      "text/plain": [
       "['VQiCYoVsw4iqYZ56rc6Y5b_20241018T101353']"
      ]
     },
     "execution_count": 4,
     "metadata": {},
     "output_type": "execute_result"
    }
   ],
   "source": [
    "p1.get_all_running_games()"
   ]
  },
  {
   "cell_type": "code",
   "execution_count": 5,
   "metadata": {},
   "outputs": [
    {
     "data": {
      "text/plain": [
       "Player(name='p2', deck=['c06', 'c09', 'c12', 'c19', 'c56', 'c63', 'c72', 'c86', 'c90', 'c91'], game_id='VQiCYoVsw4iqYZ56rc6Y5b_20241018T101353', id=2, hand=[], reserve=[], landmarks=[], exp_hero=[], exp_companion=[], mana_pile=[], discard_pile=[], has_passed_afternoon=False, turn_not_ended=False, pending_effects=None, actions=None, message=None, available_actions=None, server='http://127.0.0.1:8000', is_AI=True, AI_level='random')"
      ]
     },
     "execution_count": 5,
     "metadata": {},
     "output_type": "execute_result"
    }
   ],
   "source": [
    "p2 = Player(name=\"p2\", deck=sorted([f'c{str(i).zfill(2)}' for i in random.sample(range(1, 100), n_cards)]), is_AI=True)\n",
    "p2.game_id = GAME_ID\n",
    "p2 = p2.join_game()\n",
    "p2"
   ]
  },
  {
   "cell_type": "code",
   "execution_count": 6,
   "metadata": {},
   "outputs": [
    {
     "data": {
      "text/plain": [
       "\"game 'initialized', then do a get_available_actions\""
      ]
     },
     "execution_count": 6,
     "metadata": {},
     "output_type": "execute_result"
    }
   ],
   "source": [
    "p1.start_game()"
   ]
  },
  {
   "cell_type": "code",
   "execution_count": 9,
   "metadata": {},
   "outputs": [
    {
     "data": {
      "text/plain": [
       "Player(name='p1', deck=['c58', 'c29', 'c62', 'c97'], game_id='VQiCYoVsw4iqYZ56rc6Y5b_20241018T101353', id=1, hand=['c28', 'c88', 'c25', 'c19', 'c95', 'c26'], reserve=[], landmarks=[], exp_hero=[], exp_companion=[], mana_pile=[], discard_pile=[], has_passed_afternoon=False, turn_not_ended=False, pending_effects=None, actions=None, message='discard 3 cards to mana', available_actions=['c28', 'c88', 'c25', 'c19', 'c95', 'c26', 'pass'], server='http://127.0.0.1:8000', is_AI=True, AI_level='random')"
      ]
     },
     "execution_count": 9,
     "metadata": {},
     "output_type": "execute_result"
    }
   ],
   "source": [
    "p1 = p1.get_available_actions()\n",
    "p1"
   ]
  },
  {
   "cell_type": "code",
   "execution_count": 8,
   "metadata": {},
   "outputs": [
    {
     "data": {
      "text/plain": [
       "Player(name='p1', deck=['c58', 'c29', 'c62', 'c97'], game_id='VQiCYoVsw4iqYZ56rc6Y5b_20241018T101353', id=1, hand=['c28', 'c88', 'c25', 'c19', 'c95', 'c26'], reserve=[], landmarks=[], exp_hero=[], exp_companion=[], mana_pile=[], discard_pile=[], has_passed_afternoon=False, turn_not_ended=False, pending_effects=None, actions=None, message='discard 3 cards to mana', available_actions=['c28', 'c88', 'c25', 'c19', 'c95', 'c26', 'pass'], server='http://127.0.0.1:8000', is_AI=True, AI_level='random')"
      ]
     },
     "execution_count": 8,
     "metadata": {},
     "output_type": "execute_result"
    }
   ],
   "source": [
    "p1"
   ]
  },
  {
   "cell_type": "code",
   "execution_count": 3,
   "metadata": {},
   "outputs": [
    {
     "name": "stdout",
     "output_type": "stream",
     "text": [
      "reaction1\n",
      "reactionA\n",
      "reaction2\n",
      "Remaining JA reactions: []\n",
      "Remaining JNA reactions: []\n"
     ]
    }
   ],
   "source": [
    "def resolve_reaction(player_reactions):\n",
    "    # Function to resolve one reaction\n",
    "    if player_reactions:\n",
    "        print(player_reactions[0])\n",
    "        player_reactions.pop(0)  # Resolve the first reaction (FIFO)\n",
    "\n",
    "def verification_des_reactions(ja_reactions, jna_reactions):    \n",
    "    # Check if JA has reactions in limbo\n",
    "    while ja_reactions:\n",
    "        resolve_reaction(ja_reactions)\n",
    "        # Check if JNA has reactions in limbo\n",
    "        if jna_reactions:\n",
    "            resolve_reaction(jna_reactions)\n",
    "    \n",
    "    return ja_reactions, jna_reactions\n",
    "\n",
    "# Example usage\n",
    "ja_reactions = ['reaction1', 'reaction2']\n",
    "jna_reactions = ['reactionA']\n",
    "\n",
    "remaining_ja_reactions, remaining_jna_reactions = verification_des_reactions(ja_reactions, jna_reactions)\n",
    "print(\"Remaining JA reactions:\", remaining_ja_reactions)\n",
    "print(\"Remaining JNA reactions:\", remaining_jna_reactions)"
   ]
  },
  {
   "cell_type": "code",
   "execution_count": 10,
   "metadata": {},
   "outputs": [
    {
     "name": "stdout",
     "output_type": "stream",
     "text": [
      "2\n",
      "3\n",
      "4\n",
      "1\n"
     ]
    }
   ],
   "source": [
    "a = [1, 2, 3, 4]\n",
    "n_players = 4\n",
    "first_player = 2\n",
    "for i in range(n_players):\n",
    "    print(a[((first_player-1) + i) % n_players])"
   ]
  }
 ],
 "metadata": {
  "kernelspec": {
   "display_name": ".venv",
   "language": "python",
   "name": "python3"
  },
  "language_info": {
   "codemirror_mode": {
    "name": "ipython",
    "version": 3
   },
   "file_extension": ".py",
   "mimetype": "text/x-python",
   "name": "python",
   "nbconvert_exporter": "python",
   "pygments_lexer": "ipython3",
   "version": "3.10.11"
  }
 },
 "nbformat": 4,
 "nbformat_minor": 2
}
